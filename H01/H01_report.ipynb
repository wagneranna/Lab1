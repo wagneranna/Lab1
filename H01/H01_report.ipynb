{
  "cells": [
    {
      "cell_type": "markdown",
      "metadata": {
        "id": "view-in-github",
        "colab_type": "text"
      },
      "source": [
        "<a href=\"https://colab.research.google.com/github/wagneranna/Lab1/blob/main/H01/H01_report.ipynb\" target=\"_parent\"><img src=\"https://colab.research.google.com/assets/colab-badge.svg\" alt=\"Open In Colab\"/></a>"
      ]
    },
    {
      "cell_type": "markdown",
      "metadata": {
        "id": "evsecgKYO_ay"
      },
      "source": [
        "General Physics Laboratory 1, Wintersemester 2024/25, University of Leipzig\n",
        "\n",
        "# H01e - Pendulum as an Accelerated Frame of Reference\n",
        "\n",
        "**Authors**: Alexandru Plesca (#######), Anna Wagner (3792708)\n",
        "\n",
        "**Group**: 10"
      ]
    },
    {
      "cell_type": "markdown",
      "source": [
        "# 1 Introduction\n",
        "\n",
        "In this experiment, we want to use a smartphone as a makeshift pendulum by using the app Phyphox to measure data. We then use the obtained data to determine various properties of a physical pendulum, such as its frequency, the damping constant, and its acceleration components. When appropriate, we will compare our results to the theoretical values."
      ],
      "metadata": {
        "id": "x6F2ZZhwVHmV"
      }
    },
    {
      "cell_type": "markdown",
      "source": [
        "### 1.1 Equation of Motion\n",
        "\n",
        "The equation of motion of a pendulum is given as follows, where $J_P$ is its moment of inertia, $m$ its mass, $l$ its length and $g$ the gravitational constant. We have the angle of deflection $\\varphi$, the angular velocity $\\dot{\\varphi}$, and the angular acceleration $\\ddot{\\varphi}$.\n",
        "\n",
        "$$\n",
        "  \\ddot{\\varphi} + \\frac{mgl}{J_P} \\sin \\varphi = \\ddot{\\varphi} + \\omega_0^2 \\sin \\varphi = 0\n",
        "$$\n",
        "\n",
        "To solve this nonlinear equation numerically, the small angle approximation $\\sin \\varphi \\simeq \\varphi$ can be used. We obtain the following solution $\\varphi$ for a harmonic oscillation, and its eigenfrequency $f_0$.\n",
        "\n",
        "$$\n",
        "  \\varphi = \\varphi_0 \\cos (\\omega_0 t + \\beta)\n",
        "$$\n",
        "\n",
        "$$\n",
        "  f_0 = \\frac{\\omega_0}{2 \\pi} = \\frac{1}{2 \\pi} \\sqrt{\\frac{mgl}{J_P}}\n",
        "$$\n",
        "\n",
        "Here, $\\varphi_0$ refers to the amplitude, $\\beta$ to the phase shift, and $\\omega_0$ to the angular frequency."
      ],
      "metadata": {
        "id": "HgQWWqPgcdKw"
      }
    },
    {
      "cell_type": "markdown",
      "source": [
        "### 1.2 Accelerated Frame of Reference\n",
        "\n",
        "In the accelerated frame of reference of the smartphone, the total acceleration $\\vec{a}$ consists of the  gravitational acceleration $\\vec{g}$, the centrifugal acceleration $\\vec{a}_{\\text{cf}}$ and the Euler acceleration $\\vec{a}_{\\alpha}$.\n",
        "\n",
        "We have the following expression for the acceleration measured by the smartphone, with $\\omega = \\dot{\\varphi}$ and $\\alpha = \\ddot{\\varphi}$.\n",
        "\n",
        "$$\n",
        "  \\vec{a} = \\begin{bmatrix}\n",
        "    0 \\\\\n",
        "    -g \\cos \\varphi - l \\omega^2 \\\\\n",
        "    g \\sin \\varphi + l \\alpha\n",
        "  \\end{bmatrix}\n",
        "$$\n",
        "\n",
        "This yields the angular acceleration $\\alpha$, with the radius of gyration $R$.\n",
        "\n",
        "$$\n",
        "  \\alpha = \\ddot{\\varphi} = - \\frac{mgl}{J_P} \\sin \\varphi = - \\frac{gl}{R^2 + l^2} \\sin \\varphi\n",
        "$$\n",
        "\n",
        "The linear acceleration (i.e. the acceleration without $g$) is then obtained by subtracting $\\vec{g}$ from $\\vec{a}$."
      ],
      "metadata": {
        "id": "2i-t9IupcgJV"
      }
    },
    {
      "cell_type": "markdown",
      "source": [
        "### 1.3 Friction\n",
        "\n",
        "Depending on the speed and effective cross section of the smartphone, the oscillation may be dampened by sliding friction, viscous drag or air friction.\n",
        "\n",
        "In the simplest case of viscous drag, which is proportional to the speed, an additional term $2 \\delta \\dot{\\varphi}$ proportional to the frictional torque is added to the equation of motion.\n",
        "\n",
        "We then have the following solution $\\varphi$ for oscillation with an exponentially dampened amplitude, and the shift $f_d$ of the eigenfrequency.\n",
        "\n",
        "$$\n",
        "  \\varphi = \\varphi_0 \\exp (- \\delta t) \\cos (2 \\pi f_d t + \\beta)\n",
        "$$\n",
        "\n",
        "$$\n",
        "  f_d = \\frac{\\sqrt{\\omega_0^2 - \\delta^2}}{2 \\pi}\n",
        "$$"
      ],
      "metadata": {
        "id": "IC8Ln7aAcmwy"
      }
    },
    {
      "cell_type": "markdown",
      "source": [
        "# 2 Setup"
      ],
      "metadata": {
        "id": "pAqtflx4TrW6"
      }
    },
    {
      "cell_type": "markdown",
      "source": [
        "### 2.1 Packages"
      ],
      "metadata": {
        "id": "LmTNIFIEUgqs"
      }
    },
    {
      "cell_type": "code",
      "execution_count": null,
      "metadata": {
        "id": "UatZ3ns4y6um"
      },
      "outputs": [],
      "source": [
        "import numpy as np\n",
        "import matplotlib.pyplot as plt\n",
        "from matplotlib import rcParams\n",
        "from matplotlib.ticker import (FormatStrFormatter)\n",
        "import pandas as pd\n",
        "from scipy.optimize import curve_fit\n",
        "from IPython.display import display as dy, Markdown as md, Latex as Lx, Image as Im\n",
        "import warnings"
      ]
    },
    {
      "cell_type": "markdown",
      "source": [
        "### 2.2 Parameters"
      ],
      "metadata": {
        "id": "k9UQ68ReUpxZ"
      }
    },
    {
      "cell_type": "code",
      "execution_count": null,
      "metadata": {
        "id": "Gi2wX0V-0T70"
      },
      "outputs": [],
      "source": [
        "# figure size\n",
        "height_cm = 15\n",
        "width_cm = 20\n",
        "height_inch = height_cm/2.54\n",
        "width_inch = width_cm/2.54\n",
        "\n",
        "# text font and size for figures\n",
        "rcParams.update({'font.size': 22})\n",
        "rcParams['font.family'] = 'sans-serif'\n",
        "rcParams['font.sans-serif'] = ['Tahoma']\n",
        "plt.rc('xtick', labelsize=20)\n",
        "plt.rc('ytick', labelsize=20)\n",
        "legendfontsize = 12\n",
        "titlesize = 18\n",
        "\n",
        "# axes tick size\n",
        "ticksize = 100"
      ]
    },
    {
      "cell_type": "markdown",
      "source": [
        "### 2.3 Data"
      ],
      "metadata": {
        "id": "CNFGaz-AUykO"
      }
    },
    {
      "cell_type": "code",
      "execution_count": null,
      "metadata": {
        "id": "K6zT15Ij24Fm"
      },
      "outputs": [],
      "source": []
    },
    {
      "cell_type": "markdown",
      "source": [
        "# 3 Tasks\n",
        "\n",
        "1. Use a smartphone as pendulum bob and measure simultaneously angular velocity, acceleration and acceleration without $g$ (linear acceleration) during pendulum motion.\n",
        "\n",
        "2. Determine the frequency from the angular velocity and compare to the theoretical result.\n",
        "\n",
        "3. Determine the damping constant.\n",
        "\n",
        "4. The acceleration and the linear acceleration are measured in the accelerated pendulum frame of reference. Calculate the acceleration and linar acceleration components using the measured angular velocity and compare to the measured acceleration and linear acceleration values (six plots)."
      ],
      "metadata": {
        "id": "oyCz6YFDSIRC"
      }
    },
    {
      "cell_type": "markdown",
      "source": [
        "### Task 1 - Experimental Setup\n",
        "\n",
        "...\n",
        "\n"
      ],
      "metadata": {
        "id": "054plKuSXxPG"
      }
    },
    {
      "cell_type": "markdown",
      "source": [
        "### Task 2 - Frequency from the Angular Velocity\n",
        "\n",
        "..."
      ],
      "metadata": {
        "id": "kpFobTw6TOLn"
      }
    },
    {
      "cell_type": "markdown",
      "source": [
        "### Task 3 - Damping Constant\n",
        "\n",
        "..."
      ],
      "metadata": {
        "id": "9y1saJKtTVTD"
      }
    },
    {
      "cell_type": "markdown",
      "source": [
        "### Task 4 - Acceleration & Linear Acceleration\n",
        "\n",
        "..."
      ],
      "metadata": {
        "id": "tftg-E0zTXWx"
      }
    }
  ],
  "metadata": {
    "colab": {
      "name": "Paperprojekt.ipynb",
      "provenance": [],
      "include_colab_link": true
    },
    "kernelspec": {
      "display_name": "Python 3 (ipykernel)",
      "language": "python",
      "name": "python3"
    },
    "language_info": {
      "codemirror_mode": {
        "name": "ipython",
        "version": 3
      },
      "file_extension": ".py",
      "mimetype": "text/x-python",
      "name": "python",
      "nbconvert_exporter": "python",
      "pygments_lexer": "ipython3",
      "version": "3.11.7"
    }
  },
  "nbformat": 4,
  "nbformat_minor": 0
}