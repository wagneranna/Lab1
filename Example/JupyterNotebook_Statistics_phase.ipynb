{
 "cells": [
  {
   "cell_type": "markdown",
   "metadata": {},
   "source": [
    "# Statistics and Fitting in a Jupyter Notebook\n",
    "## Introduction\n",
    "\n",
    "In this Jupyter notebook the basic statistic functions, linear and non-linear fits are demonstrated."
   ]
  },
  {
   "cell_type": "markdown",
   "metadata": {},
   "source": [
    "## Imported Packages\n",
    "\n",
    "In the following code cell some Python libraries for calculation, fitting, data import and results display are imported. The exact purpose of the libraries is indicated in the code cell as a comment after the hashtag #. Note that sometimes only certain modules from the packages are imported."
   ]
  },
  {
   "cell_type": "code",
   "execution_count": 3,
   "metadata": {
    "id": "UatZ3ns4y6um"
   },
   "outputs": [],
   "source": [
    "import numpy as np                                # library for data structures, vectors, matrices and mathematical functions\n",
    "import matplotlib.pyplot as plt                   # library for plotting and visual representation\n",
    "from matplotlib import rcParams                   # module handling generic plot parameters\n",
    "from matplotlib.ticker import (FormatStrFormatter)# module for figure axis formatting\n",
    "import pandas as pd                               # data administration, here used for data import\n",
    "from scipy.optimize import curve_fit              # fitting algorithm from the scipy package\n",
    "from IPython.display import display as dy, Markdown as md, Latex as Lx, Image as Im \n",
    "                                                  # displaying LaTeX code in code cells\n",
    "import warnings"
   ]
  },
  {
   "cell_type": "markdown",
   "metadata": {},
   "source": [
    "## Definition of the Plot Parameters"
   ]
  },
  {
   "cell_type": "code",
   "execution_count": 5,
   "metadata": {
    "id": "Gi2wX0V-0T70"
   },
   "outputs": [],
   "source": [
    "# figure size\n",
    "height_cm = 15\n",
    "width_cm = 20\n",
    "height_inch = height_cm/2.54\n",
    "width_inch = width_cm/2.54\n",
    "\n",
    "# text font and size for figures\n",
    "rcParams.update({'font.size': 22})\n",
    "rcParams['font.family'] = 'sans-serif'\n",
    "rcParams['font.sans-serif'] = ['Tahoma'] #other font styles possible\n",
    "plt.rc('xtick', labelsize=20) \n",
    "plt.rc('ytick', labelsize=20)\n",
    "legendfontsize = 12\n",
    "titlesize = 18\n",
    "\n",
    "# axes tick size\n",
    "ticksize = 100"
   ]
  },
  {
   "cell_type": "markdown",
   "metadata": {},
   "source": [
    "## Definition of the Data File Path"
   ]
  },
  {
   "cell_type": "code",
   "execution_count": 9,
   "metadata": {
    "colab": {
     "base_uri": "https://localhost:8080/"
    },
    "id": "aIRNERQUFOUX",
    "outputId": "22ce09b5-159a-4672-e22b-16f6c9fafd82"
   },
   "outputs": [],
   "source": [
    "datapath = 'C:/Users/MZ/Documents/Statistik/'"
   ]
  },
  {
   "cell_type": "markdown",
   "metadata": {},
   "source": [
    "## Data Import\n",
    "\n",
    "The experimental data are provided as ASCII files with one column. In the following code cell the data files are imported using pandas dataframes and are assigned to list.\n",
    "File names are:\n",
    "1. Statistics\n",
    "      - numbers_1.dat\n",
    "      - numbers_4.dat\n",
    "      - w_4.dat\n",
    "      - numbers_5.dat\n",
    "      - linear_1.dat\n",
    "2. ac Circuits\n",
    "      - phase data: \n",
    "         - RC_phase.dat\n",
    "         - RL_phase.dat\n",
    "         - RCL_phase.dat (two columns: frequency (Hz) and time shift(ms))"
   ]
  },
  {
   "cell_type": "code",
   "execution_count": 14,
   "metadata": {
    "id": "K6zT15Ij24Fm"
   },
   "outputs": [],
   "source": [
    "### Statistics data\n",
    "\n",
    "## Assign more convenient variables and work with pandas dataframes.\n",
    "stat1 = pd.read_table(datapath+'numbers_1.dat')                            \n",
    "stat4 = pd.read_table(datapath+'numbers_4.dat')                               \n",
    "stat5 = pd.read_table(datapath+'numbers_5.dat')    \n",
    "weight4 = pd.read_table(datapath+'w_4.dat')\n",
    "lin1 = pd.read_table(datapath+'linear_1.dat')\n",
    "\n",
    "### Phase data\n",
    "\n",
    "## RC - assign more convenient variables and work with pandas dataframes\n",
    "RC_phase = pd.read_table(datapath+'RC_phase.dat')                           # phase data RC series circuit\n",
    "\n",
    "## RL - assign more convenient variables and work with pandas dataframes\n",
    "RL_phase = pd.read_table(datapath+'RL_phase.dat')                           # phase data RL series circuit\n",
    "\n",
    "## RLC - assign more convenient variables and work with pandas dataframes\n",
    "RLC_phase = pd.read_table(datapath+'RCL_phase.dat')                         # phase data RCL series circuit\n",
    "\n",
    "## phase in deg\n",
    "phi_RC = 360*RC_phase['t (ms)']*1E-3*RC_phase['f (Hz)']\n",
    "phi_RL = 360*RL_phase['t (ms)']*1E-3*RL_phase['f (Hz)']\n",
    "phi_RCL = 360*RLC_phase['t (ms)']*1E-3*RLC_phase['f (Hz)']"
   ]
  },
  {
   "cell_type": "markdown",
   "metadata": {},
   "source": [
    "## Calculation of basic parameters from descriptive statistics: Average, standard deviation, variance, standrad deviation of the mean"
   ]
  },
  {
   "cell_type": "code",
   "execution_count": 21,
   "metadata": {
    "id": "psR4G53cSz3h"
   },
   "outputs": [
    {
     "data": {
      "text/latex": [
       "$N$ = 10, Average = 0.15513, Standard deviation = 0.96676, Standard deviation of the mean = 0.30572, Variance = 0.93463"
      ],
      "text/plain": [
       "<IPython.core.display.Latex object>"
      ]
     },
     "metadata": {},
     "output_type": "display_data"
    },
    {
     "data": {
      "text/latex": [
       "$N$ = 10000, Average = -0.00144, Standard deviation = 1.00913, Standard deviation of the mean = 0.01009, Variance = 1.01834"
      ],
      "text/plain": [
       "<IPython.core.display.Latex object>"
      ]
     },
     "metadata": {},
     "output_type": "display_data"
    },
    {
     "data": {
      "text/latex": [
       "$N$ = 100000, Average = 0.00118, Standard deviation = 0.99804, Standard deviation of the mean = 0.00316, Variance = 0.99608"
      ],
      "text/plain": [
       "<IPython.core.display.Latex object>"
      ]
     },
     "metadata": {},
     "output_type": "display_data"
    },
    {
     "data": {
      "text/latex": [
       "Example for weighted average: $N$ = 10000, Average = -0.00144, Weighted average = 0.00509"
      ],
      "text/plain": [
       "<IPython.core.display.Latex object>"
      ]
     },
     "metadata": {},
     "output_type": "display_data"
    }
   ],
   "source": [
    "warnings.filterwarnings('ignore')\n",
    "\n",
    "# Number of data values\n",
    "l1 = len(stat1)\n",
    "l4 = len(stat4)\n",
    "l5 = len(stat5)\n",
    "# Average values\n",
    "ave1 = np.average(stat1)\n",
    "ave4 = np.average(stat4)\n",
    "ave5 = np.average(stat5)\n",
    "# Weighted average\n",
    "wave4 = np.average(stat4,weights=weight4)\n",
    "# Standard deviations\n",
    "std1 = np.std(stat1,ddof = 1)\n",
    "std4 = np.std(stat4,ddof = 1)\n",
    "std5 = np.std(stat5,ddof = 1)\n",
    "# Variance\n",
    "var1 = np.var(stat1,ddof = 1)\n",
    "var4 = np.var(stat4,ddof = 1)\n",
    "var5 = np.var(stat5,ddof = 1)\n",
    "# Standard deviation of the mean\n",
    "stdm1 = std1/np.sqrt(l1)\n",
    "stdm4 = std4/np.sqrt(l4)\n",
    "stdm5 = std5/np.sqrt(l5)\n",
    "# Displaying the values\n",
    "dy(Lx(r'$N$ = %i, Average = %.5f, Standard deviation = %.5f, Standard deviation of the mean = %.5f, Variance = %.5f' % (l1,ave1,std1,stdm1,var1)))\n",
    "dy(Lx(r'$N$ = %i, Average = %.5f, Standard deviation = %.5f, Standard deviation of the mean = %.5f, Variance = %.5f' % (l4,ave4,std4,stdm4,var4)))\n",
    "dy(Lx(r'$N$ = %i, Average = %.5f, Standard deviation = %.5f, Standard deviation of the mean = %.5f, Variance = %.5f' % (l5,ave5,std5,stdm5,var5)))\n",
    "dy(Lx(r'Example for weighted average: $N$ = 10000, Average = %.5f, Weighted average = %.5f' % (ave4,wave4)))"
   ]
  },
  {
   "cell_type": "markdown",
   "metadata": {},
   "source": [
    "## Linear Fits"
   ]
  },
  {
   "cell_type": "code",
   "execution_count": 24,
   "metadata": {
    "colab": {
     "base_uri": "https://localhost:8080/"
    },
    "id": "fQbDleb1S-SL",
    "outputId": "f107e9f0-cd4c-42a3-d6a1-f57ad9c9d962",
    "scrolled": true
   },
   "outputs": [
    {
     "name": "stdout",
     "output_type": "stream",
     "text": [
      "(array([ 0.11082955, -2.98649178]), array([[ 9.10568993e-08, -4.09756050e-06],\n",
      "       [-4.09756050e-06,  2.77875309e-04]]))\n"
     ]
    },
    {
     "data": {
      "text/latex": [
       "$a =$ 0.111, $b =$ -2.986"
      ],
      "text/plain": [
       "<IPython.core.display.Latex object>"
      ]
     },
     "metadata": {},
     "output_type": "display_data"
    },
    {
     "data": {
      "text/latex": [
       "$u(a) =$ 3.0e-04, $u(b) =$ 1.7e-02"
      ],
      "text/plain": [
       "<IPython.core.display.Latex object>"
      ]
     },
     "metadata": {},
     "output_type": "display_data"
    },
    {
     "data": {
      "text/latex": [
       "$cov(a,b) =$ -0.815"
      ],
      "text/plain": [
       "<IPython.core.display.Latex object>"
      ]
     },
     "metadata": {},
     "output_type": "display_data"
    },
    {
     "data": {
      "text/latex": [
       "With correct number of decimals:"
      ],
      "text/plain": [
       "<IPython.core.display.Latex object>"
      ]
     },
     "metadata": {},
     "output_type": "display_data"
    },
    {
     "data": {
      "text/latex": [
       "$a \\pm u(a) = $ 0.1108 $\\pm$ 3e-04"
      ],
      "text/plain": [
       "<IPython.core.display.Latex object>"
      ]
     },
     "metadata": {},
     "output_type": "display_data"
    },
    {
     "data": {
      "text/latex": [
       "$b \\pm u(b) = $ -2.99 $\\pm$ 2e-02"
      ],
      "text/plain": [
       "<IPython.core.display.Latex object>"
      ]
     },
     "metadata": {},
     "output_type": "display_data"
    }
   ],
   "source": [
    "### FIT FUNCTIONS\n",
    "\n",
    "def linear(x, a, b):\n",
    "  return a*x+b\n",
    "\n",
    "x = lin1['x']\n",
    "y = lin1['y']\n",
    "\n",
    "# fit_linear[0][0:1] contains the values of the fit parameters a and b, \n",
    "# fit_linear[1][0:1][0:1] the covariance matrix with the variance of the fit parameters as diagonal elements.\n",
    "fit_linear = curve_fit(linear, x, y)\n",
    "\n",
    "print(fit_linear)\n",
    "dy(Lx('$a =$ %.3f, $b =$ %.3f' % (fit_linear[0][0],fit_linear[0][1])))\n",
    "dy(Lx('$u(a) =$ %.1e, $u(b) =$ %.1e' % (np.sqrt(fit_linear[1][0][0]),np.sqrt(fit_linear[1][1][1]))))\n",
    "dy(Lx('$cov(a,b) =$ %.3f' % (fit_linear[1][0][1]/np.sqrt(fit_linear[1][0][0]*fit_linear[1][1][1]))))\n",
    "dy(Lx('With correct number of decimals:'))\n",
    "dy(Lx('$a \\pm u(a) = $ %.4f $\\pm$ %.0e' % (fit_linear[0][0],np.sqrt(fit_linear[1][0][0]))))\n",
    "dy(Lx('$b \\pm u(b) = $ %.2f $\\pm$ %.0e' % (fit_linear[0][1],np.sqrt(fit_linear[1][1][1]))))"
   ]
  },
  {
   "cell_type": "markdown",
   "metadata": {},
   "source": [
    "## Plotting of data and linear fit"
   ]
  },
  {
   "cell_type": "code",
   "execution_count": 27,
   "metadata": {
    "colab": {
     "base_uri": "https://localhost:8080/",
     "height": 825
    },
    "id": "fztqIdOM8n_L",
    "outputId": "c6558d00-115a-4ed5-8897-c90a37cc4cec"
   },
   "outputs": [
    {
     "data": {
      "text/latex": [
       "$Figure\\, 1$: Linear scatter data. Solid line is a linear fit to the data."
      ],
      "text/plain": [
       "<IPython.core.display.Latex object>"
      ]
     },
     "metadata": {},
     "output_type": "display_data"
    },
    {
     "data": {
      "image/png": "[encoded data removed]",
      "text/plain": [
       "<Figure size 787.402x590.551 with 1 Axes>"
      ]
     },
     "metadata": {},
     "output_type": "display_data"
    }
   ],
   "source": [
    "### PLOTS\n",
    "\n",
    "## linear\n",
    "fig1, ax1 = plt.subplots()\n",
    "fig1.set_figheight(height_inch)\n",
    "fig1.set_figwidth(width_inch)\n",
    "\n",
    "ax1.grid('both')\n",
    "ax1.axhline(0, linewidth=0.75, color='black')\n",
    "ax1.set_xlabel('$x$')\n",
    "ax1.set_ylabel('$y$')\n",
    "#ax1.set_ylim(-20,90)\n",
    "#ax1.set_yticks(np.arange(-90,91,30))\n",
    "\n",
    "# figure caption\n",
    "dy(Lx(r'$Figure\\, 1$: Linear scatter data. Solid line is a linear fit to the data.'))\n",
    "\n",
    "#RC phase data and fit\n",
    "ax1.scatter(lin1['x'], lin1['y'],marker = 's', color = 'orange', s = 25, label = 'data')\n",
    "ax1.plot(lin1['x'], linear(lin1['x'], fit_linear[0][0], fit_linear[0][1]), color = 'blue', linewidth = 1.5, label = 'fit')\n",
    "fig1.legend(bbox_to_anchor = (0.14, 0.87), loc = 'upper left', fontsize = legendfontsize)\n",
    "plt.show()"
   ]
  },
  {
   "cell_type": "markdown",
   "metadata": {},
   "source": [
    "## Non-linear Fit\n",
    "\n"
   ]
  },
  {
   "cell_type": "code",
   "execution_count": 29,
   "metadata": {},
   "outputs": [
    {
     "data": {
      "text/latex": [
       "$\\underline{\\rm Fitting\\, results}$"
      ],
      "text/plain": [
       "<IPython.core.display.Latex object>"
      ]
     },
     "metadata": {},
     "output_type": "display_data"
    },
    {
     "data": {
      "text/latex": [
       "from RC phase: $\\tau =$ (61.1 $\\pm$ 0.4) $\\mu$s"
      ],
      "text/plain": [
       "<IPython.core.display.Latex object>"
      ]
     },
     "metadata": {},
     "output_type": "display_data"
    },
    {
     "data": {
      "text/latex": [
       "from RL phase: $\\delta =$ (23402 $\\pm$ 349) s$^{-1}$"
      ],
      "text/plain": [
       "<IPython.core.display.Latex object>"
      ]
     },
     "metadata": {},
     "output_type": "display_data"
    },
    {
     "data": {
      "text/latex": [
       "from RCL phase: $f_0 =$ (4235 $\\pm$ 25) Hz, $\\delta =$ (22581 $\\pm$ 327) s$^{-1}$"
      ],
      "text/plain": [
       "<IPython.core.display.Latex object>"
      ]
     },
     "metadata": {},
     "output_type": "display_data"
    }
   ],
   "source": [
    "### FIT FUNCTIONS\n",
    "\n",
    "## fit functions for phase shift\n",
    "def theta_rc(f, tau):\n",
    "  return np.rad2deg(-np.arctan(1/(2*np.pi*f*tau)))\n",
    "def theta_rl(f, delta):\n",
    "  return np.rad2deg(np.arctan(np.pi*f/delta))\n",
    "def theta_rcl(f, f0, delta):\n",
    "  return np.rad2deg(np.arctan((2*np.pi)**2*(f**2-f0**2)/(4*np.pi*delta*f)))\n",
    "\n",
    "### FITS\n",
    "\n",
    "## phase fits\n",
    "# The fitting parameters returned by curve_fit consist of two arrays.\n",
    "# fit_RC[0][0] contains the value of the fit parameter tau, fit_RC[1][0] its variance.\n",
    "# fit_RL[0][0] contains the value of the fit parameter delta, fit_RL[1][0] its variance.\n",
    "# fit_RCL[0][0:1] contains the values of the fit parameters f0 and delta, fit_RC[1][0:1][0:1] \n",
    "# the covariance matrix with the variance of the fit parameters as diagonal elements.\n",
    "fit_rc = curve_fit(theta_rc, RC_phase['f (Hz)'], phi_RC)\n",
    "fit_rl = curve_fit(theta_rl, RL_phase['f (Hz)'], phi_RL)\n",
    "fit_rcl = curve_fit(theta_rcl, RLC_phase['f (Hz)'], phi_RCL)\n",
    "\n",
    "# LaTeX code to display the fitting results\n",
    "dy(Lx(r'$\\underline{\\rm Fitting\\, results}$'))\n",
    "dy(Lx(r'from RC phase: $\\tau =$ (%0.1f $\\pm$ %0.1f) $\\mu$s' % (1.0e+6*fit_rc[0][0],1.0e+6*np.sqrt(fit_rc[1][0]))))\n",
    "dy(Lx(r'from RL phase: $\\delta =$ (%0.0f $\\pm$ %0.0f) s$^{-1}$' % (fit_rl[0][0],np.sqrt(fit_rl[1][0]))))\n",
    "dy(Lx(r'from RCL phase: $f_0 =$ (%0.0f $\\pm$ %0.0f) Hz, $\\delta =$ (%0.0f $\\pm$ %0.0f) s$^{-1}$' % \n",
    "      (fit_rcl[0][0],np.sqrt(fit_rcl[1][0][0]),fit_rcl[0][1],np.sqrt(fit_rcl[1][1][1]))))"
   ]
  },
  {
   "cell_type": "markdown",
   "metadata": {},
   "source": [
    "## Plotting of data and non-linear fits"
   ]
  },
  {
   "cell_type": "code",
   "execution_count": 34,
   "metadata": {},
   "outputs": [
    {
     "data": {
      "text/latex": [
       "$Figure\\, 1$: Phase shift between current and voltage for the RC-, RL- and RCL-circuit. Solid lines are fits to the data."
      ],
      "text/plain": [
       "<IPython.core.display.Latex object>"
      ]
     },
     "metadata": {},
     "output_type": "display_data"
    },
    {
     "data": {
      "image/png": "[encoded data removed]",
      "text/plain": [
       "<Figure size 787.402x590.551 with 1 Axes>"
      ]
     },
     "metadata": {},
     "output_type": "display_data"
    }
   ],
   "source": [
    "### PLOTS\n",
    "\n",
    "## phase plot and fits\n",
    "fig2, ax2 = plt.subplots()\n",
    "fig2.set_figheight(height_inch)\n",
    "fig2.set_figwidth(width_inch)\n",
    "\n",
    "ax2.semilogx()\n",
    "ax2.grid('both')\n",
    "ax2.axhline(0, linewidth=0.75, color='black')\n",
    "ax2.set_xlabel('Frequency $f$ (Hz)')\n",
    "ax2.set_ylabel(r'Phase $\\theta$ (degrees)')\n",
    "ax2.set_ylim(-90,90)\n",
    "ax2.set_yticks(np.arange(-90,91,30))\n",
    "\n",
    "# figure caption\n",
    "dy(Lx(r'$Figure\\, 1$: Phase shift between current and voltage for the RC-, RL- and RCL-circuit. Solid lines are fits to the data.'))\n",
    "\n",
    "#RC, RL and RCL phase data\n",
    "ax2.scatter(RC_phase['f (Hz)'], phi_RC,\n",
    "            marker = 's', color = 'orange', s = 30, label = 'RC')\n",
    "ax2.scatter(RL_phase['f (Hz)'], phi_RL,\n",
    "            marker = 'o', color = 'navy', s = 30, label = 'RL')\n",
    "ax2.scatter(RLC_phase['f (Hz)'], phi_RCL,\n",
    "            marker = 'v', color = 'red', s = 30, label = 'RCL')\n",
    "fig2.legend(bbox_to_anchor = (0.17, 0.84), loc = 'upper left', fontsize = legendfontsize)\n",
    "\n",
    "#RC, RL and RCL phase fits\n",
    "ax2.plot(RC_phase['f (Hz)'], theta_rc(RC_phase['f (Hz)'], fit_rc[0][0]),\n",
    "         color = 'orange', linewidth = 1.0, label = 'fit RC')\n",
    "ax2.plot(RL_phase['f (Hz)'], theta_rl(RL_phase['f (Hz)'], fit_rl[0][0]),\n",
    "         color = 'navy', linewidth = 1.0, label = 'fit RL')\n",
    "ax2.plot(RLC_phase['f (Hz)'], theta_rcl(RLC_phase['f (Hz)'], fit_rcl[0][0], fit_rcl[0][1]),\n",
    "         color = 'red', linewidth = 1.0, label = 'fit RCL')\n",
    "plt.show()"
   ]
  },
  {
   "cell_type": "code",
   "execution_count": null,
   "metadata": {},
   "outputs": [],
   "source": []
  }
 ],
 "metadata": {
  "colab": {
   "collapsed_sections": [],
   "name": "Paperprojekt.ipynb",
   "provenance": [],
   "toc_visible": true
  },
  "kernelspec": {
   "display_name": "Python 3 (ipykernel)",
   "language": "python",
   "name": "python3"
  },
  "language_info": {
   "codemirror_mode": {
    "name": "ipython",
    "version": 3
   },
   "file_extension": ".py",
   "mimetype": "text/x-python",
   "name": "python",
   "nbconvert_exporter": "python",
   "pygments_lexer": "ipython3",
   "version": "3.11.7"
  }
 },
 "nbformat": 4,
 "nbformat_minor": 4
}
